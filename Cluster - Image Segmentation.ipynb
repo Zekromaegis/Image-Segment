{
 "cells": [
  {
   "cell_type": "code",
   "execution_count": 1,
   "metadata": {},
   "outputs": [],
   "source": [
    "import matplotlib.pyplot as plt\n",
    "import matplotlib.image as mpimg\n",
    "import numpy as np\n",
    "import gc\n",
    "from sklearn.pipeline import Pipeline\n",
    "from sklearn.cluster import KMeans, MiniBatchKMeans\n",
    "from sklearn.base import TransformerMixin, BaseEstimator\n",
    "from os.path import splitext\n",
    "import os\n",
    "import time\n",
    "%matplotlib inline\n",
    "\n",
    "class ImageIntToFloat(BaseEstimator,TransformerMixin):\n",
    "    def __init__(self):\n",
    "        pass\n",
    "    def fit(self,X,y=None):\n",
    "        return self\n",
    "    def transform(self,X,y=None):\n",
    "        if X.dtype == np.uint8:\n",
    "            return X.astype('float32') / np.iinfo(np.uint8).max\n",
    "        else:\n",
    "            return X\n",
    "\n",
    "class ImageReshaper(BaseEstimator,TransformerMixin):\n",
    "    def __init__(self,colour_channels=3):\n",
    "        self.colour_channels = colour_channels\n",
    "    def fit(self,X,y=None):\n",
    "        return self\n",
    "    def transform(self,X,y=None):\n",
    "        return X.reshape(-1,self.colour_channels)"
   ]
  },
  {
   "cell_type": "code",
   "execution_count": 2,
   "metadata": {},
   "outputs": [
    {
     "name": "stdout",
     "output_type": "stream",
     "text": [
      "(2048, 1448, 3)\n",
      "Uncompressed image will use 33.94 mb in memory.\n"
     ]
    }
   ],
   "source": [
    "filename = './New folder/abc.jpg'\n",
    "ftitle, fext = splitext(filename)\n",
    "image = mpimg.imread(filename)\n",
    "print(image.shape)\n",
    "print(f'Uncompressed image will use {image.size * np.dtype(np.float32).itemsize / 1024**2:.2f} mb in memory.')"
   ]
  },
  {
   "cell_type": "code",
   "execution_count": 3,
   "metadata": {},
   "outputs": [
    {
     "name": "stdout",
     "output_type": "stream",
     "text": [
      "Clustering the image into 2 clusters\n",
      "./New folder/hako(2).jpg saved. Time taken - 27.62 seconds.\n",
      "Clustering the image into 3 clusters\n",
      "./New folder/hako(3).jpg saved. Time taken - 48.86 seconds.\n",
      "Clustering the image into 4 clusters\n",
      "./New folder/hako(4).jpg saved. Time taken - 74.03 seconds.\n",
      "Clustering the image into 6 clusters\n",
      "./New folder/hako(6).jpg saved. Time taken - 137.71 seconds.\n",
      "Clustering the image into 7 clusters\n",
      "./New folder/hako(7).jpg saved. Time taken - 126.69 seconds.\n",
      "Clustering the image into 8 clusters\n",
      "./New folder/hako(8).jpg saved. Time taken - 166.19 seconds.\n",
      "Clustering the image into 10 clusters\n",
      "./New folder/hako(10).jpg saved. Time taken - 218.93 seconds.\n",
      "Clustering the image into 15 clusters\n",
      "./New folder/hako(15).jpg saved. Time taken - 395.14 seconds.\n",
      "Clustering the image into 20 clusters\n",
      "Memory Error while using K-Means. Using Mini-Batch K-Means instead.\n",
      "Generated Memory Map.\n",
      "./New folder/hako(20).jpg saved. Time taken - 45.40 seconds.\n",
      "Clustering the image into 35 clusters\n",
      "Memory Error while using K-Means. Using Mini-Batch K-Means instead.\n",
      "./New folder/hako(35).jpg saved. Time taken - 47.83 seconds.\n",
      "Deleted Memory Map.\n",
      "Task Completed.\n"
     ]
    }
   ],
   "source": [
    "pipe = Pipeline([\n",
    "    ('int2float',ImageIntToFloat()),\n",
    "    ('reshape',ImageReshaper(colour_channels=image[0,0].size)),\n",
    "])\n",
    "\n",
    "n_colors = (2,3,4,6,7,8,10,15,20,35)#(35,20,15,10,8,7,6,4,3,2)#(7,)# 8, 6, 4, 3, 2)\n",
    "reshaped_image = pipe.fit_transform(image)\n",
    "flag = False\n",
    "\n",
    "for n_clusters in n_colors:\n",
    "    tick = time.time()\n",
    "    print(f'Clustering the image into {n_clusters} clusters')\n",
    "    try:\n",
    "        kmeans = KMeans(n_clusters=n_clusters,random_state=42).fit(reshaped_image)\n",
    "    except MemoryError:\n",
    "        print(\"Memory Error while using K-Means. Using Mini-Batch K-Means instead.\")\n",
    "        if(not flag):\n",
    "            memmapped_image = np.memmap('temp', dtype='float32', mode='write', shape=reshaped_image.shape)\n",
    "            memmapped_image[:] = reshaped_image\n",
    "            print('Generated Memory Map.')\n",
    "            flag = True\n",
    "        kmeans = MiniBatchKMeans(n_clusters=n_clusters,random_state=42).fit(memmapped_image)\n",
    "    np.minimum(kmeans.cluster_centers_,1.0,out=kmeans.cluster_centers_)\n",
    "    np.maximum(kmeans.cluster_centers_,0.0,out=kmeans.cluster_centers_)\n",
    "    segmented_img = kmeans.cluster_centers_[kmeans.labels_].reshape(image.shape)\n",
    "    try:\n",
    "        mpimg.imsave(f'{ftitle}({n_clusters}){fext}',segmented_img)\n",
    "    except MemoryError:\n",
    "        gc.collect()\n",
    "        print(\"Memory Error while saving Image. Using Memory Map.\")\n",
    "        mm_segmented_img = np.memmap('seg', dtype='float32', mode='write', shape=segmented_img.shape)\n",
    "        mm_segmented_img[:] = segmented_img\n",
    "        print('Generated Memory Map.')\n",
    "        mpimg.imsave(f'{ftitle}({n_clusters}){fext}',mm_segmented_img)\n",
    "        del mm_segmented_img\n",
    "        gc.collect()\n",
    "        os.remove('seg')\n",
    "        print('Deleted Memory Map.')\n",
    "    print(f'{ftitle}({n_clusters}){fext} saved. Time taken - {time.time() - tick:.2f} seconds.')\n",
    "\n",
    "if flag:\n",
    "    del memmapped_image\n",
    "    gc.collect()\n",
    "    os.remove('temp')\n",
    "    print('Deleted Memory Map.')\n",
    "\n",
    "print('Task Completed.')"
   ]
  },
  {
   "cell_type": "raw",
   "metadata": {},
   "source": [
    "plt.figure(figsize=(20,10))\n",
    "plt.subplots_adjust(wspace=0.05, hspace=0.1)\n",
    "plt.subplot(231)\n",
    "plt.imshow(image)\n",
    "plt.title(\"Original image\")\n",
    "plt.axis('off')\n",
    "\n",
    "for idx, n_clusters in enumerate(n_colors):\n",
    "    plt.subplot(232 + idx)\n",
    "    plt.imshow(seg_memmapped_image[idx])\n",
    "    plt.title(f\"{n_clusters} colors\")\n",
    "    plt.axis('off')\n",
    "    \n",
    "plt.show()"
   ]
  },
  {
   "cell_type": "raw",
   "metadata": {},
   "source": [
    "clip 2.78 ms\n",
    "minimum maximum inplace 2.78 ms\n",
    "clip inplace 2.8 ms\n",
    "[a>200] 3.48 ms\n"
   ]
  }
 ],
 "metadata": {
  "kernelspec": {
   "display_name": "Python 3",
   "language": "python",
   "name": "python3"
  },
  "language_info": {
   "codemirror_mode": {
    "name": "ipython",
    "version": 3
   },
   "file_extension": ".py",
   "mimetype": "text/x-python",
   "name": "python",
   "nbconvert_exporter": "python",
   "pygments_lexer": "ipython3",
   "version": "3.7.4"
  }
 },
 "nbformat": 4,
 "nbformat_minor": 4
}
